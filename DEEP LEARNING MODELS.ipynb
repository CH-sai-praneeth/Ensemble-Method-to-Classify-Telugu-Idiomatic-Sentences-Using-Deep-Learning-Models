{
  "nbformat": 4,
  "nbformat_minor": 0,
  "metadata": {
    "colab": {
      "provenance": []
    },
    "kernelspec": {
      "name": "python3",
      "display_name": "Python 3"
    },
    "accelerator": "GPU"
  },
  "cells": [
    {
      "cell_type": "code",
      "metadata": {
        "colab": {
          "base_uri": "https://localhost:8080/"
        },
        "id": "z6IFFjnYhvt2",
        "outputId": "304a444a-c61f-42cf-cfce-45d216a8943a"
      },
      "source": [
        "!pip install transformers "
      ],
      "execution_count": null,
      "outputs": [
        {
          "output_type": "stream",
          "name": "stdout",
          "text": [
            "Looking in indexes: https://pypi.org/simple, https://us-python.pkg.dev/colab-wheels/public/simple/\n",
            "Requirement already satisfied: transformers in /usr/local/lib/python3.9/dist-packages (4.27.1)\n",
            "Requirement already satisfied: packaging>=20.0 in /usr/local/lib/python3.9/dist-packages (from transformers) (23.0)\n",
            "Requirement already satisfied: numpy>=1.17 in /usr/local/lib/python3.9/dist-packages (from transformers) (1.22.4)\n",
            "Requirement already satisfied: regex!=2019.12.17 in /usr/local/lib/python3.9/dist-packages (from transformers) (2022.6.2)\n",
            "Requirement already satisfied: huggingface-hub<1.0,>=0.11.0 in /usr/local/lib/python3.9/dist-packages (from transformers) (0.13.2)\n",
            "Requirement already satisfied: requests in /usr/local/lib/python3.9/dist-packages (from transformers) (2.25.1)\n",
            "Requirement already satisfied: pyyaml>=5.1 in /usr/local/lib/python3.9/dist-packages (from transformers) (6.0)\n",
            "Requirement already satisfied: filelock in /usr/local/lib/python3.9/dist-packages (from transformers) (3.9.1)\n",
            "Requirement already satisfied: tokenizers!=0.11.3,<0.14,>=0.11.1 in /usr/local/lib/python3.9/dist-packages (from transformers) (0.13.2)\n",
            "Requirement already satisfied: tqdm>=4.27 in /usr/local/lib/python3.9/dist-packages (from transformers) (4.65.0)\n",
            "Requirement already satisfied: typing-extensions>=3.7.4.3 in /usr/local/lib/python3.9/dist-packages (from huggingface-hub<1.0,>=0.11.0->transformers) (4.5.0)\n",
            "Requirement already satisfied: idna<3,>=2.5 in /usr/local/lib/python3.9/dist-packages (from requests->transformers) (2.10)\n",
            "Requirement already satisfied: certifi>=2017.4.17 in /usr/local/lib/python3.9/dist-packages (from requests->transformers) (2022.12.7)\n",
            "Requirement already satisfied: urllib3<1.27,>=1.21.1 in /usr/local/lib/python3.9/dist-packages (from requests->transformers) (1.26.15)\n",
            "Requirement already satisfied: chardet<5,>=3.0.2 in /usr/local/lib/python3.9/dist-packages (from requests->transformers) (4.0.0)\n"
          ]
        }
      ]
    },
    {
      "cell_type": "code",
      "metadata": {
        "id": "HyuXwh4AaG4-"
      },
      "source": [
        "import pandas as pd\n",
        "from sklearn.model_selection import train_test_split\n",
        "\n",
        "df = pd.read_excel('/content/PROJECT DATASET.xlsx',names=['text','label'])\n",
        " "
      ],
      "execution_count": null,
      "outputs": []
    },
    {
      "cell_type": "code",
      "metadata": {
        "colab": {
          "base_uri": "https://localhost:8080/",
          "height": 206
        },
        "id": "y6IW4OLEaISN",
        "outputId": "06b60ff4-a7b0-4734-94a4-91fc2c513277"
      },
      "source": [
        "df.head()"
      ],
      "execution_count": null,
      "outputs": [
        {
          "output_type": "execute_result",
          "data": {
            "text/plain": [
              "                                                text    label\n",
              "0            రమేష్ రాజేష్ కి పక్కలో బెల్లంలా ఉన్నాడు    Idiom\n",
              "1  రాజేష్ మాటలే కానీ చేతలు లేదు తెలిసిందే కదా మొర...  Literal\n",
              "2  సెగలేనిదే పొగ రాదన్నట్లు రవి ఎవరు చెప్పకుండా ఏ...  Literal\n",
              "3  మళ్లీ మళ్లీ రిపీట్ చేస్తూ చూస్తున్న వాళ్ళు ఎంత...  Literal\n",
              "4  పొయ్యి కనీసం కొడుకులకు పని పాట లేదు కా బట్టి ద...  Literal"
            ],
            "text/html": [
              "\n",
              "  <div id=\"df-7c07ba14-d68a-4913-9baa-26f8aaf7fe2b\">\n",
              "    <div class=\"colab-df-container\">\n",
              "      <div>\n",
              "<style scoped>\n",
              "    .dataframe tbody tr th:only-of-type {\n",
              "        vertical-align: middle;\n",
              "    }\n",
              "\n",
              "    .dataframe tbody tr th {\n",
              "        vertical-align: top;\n",
              "    }\n",
              "\n",
              "    .dataframe thead th {\n",
              "        text-align: right;\n",
              "    }\n",
              "</style>\n",
              "<table border=\"1\" class=\"dataframe\">\n",
              "  <thead>\n",
              "    <tr style=\"text-align: right;\">\n",
              "      <th></th>\n",
              "      <th>text</th>\n",
              "      <th>label</th>\n",
              "    </tr>\n",
              "  </thead>\n",
              "  <tbody>\n",
              "    <tr>\n",
              "      <th>0</th>\n",
              "      <td>రమేష్ రాజేష్ కి పక్కలో బెల్లంలా ఉన్నాడు</td>\n",
              "      <td>Idiom</td>\n",
              "    </tr>\n",
              "    <tr>\n",
              "      <th>1</th>\n",
              "      <td>రాజేష్ మాటలే కానీ చేతలు లేదు తెలిసిందే కదా మొర...</td>\n",
              "      <td>Literal</td>\n",
              "    </tr>\n",
              "    <tr>\n",
              "      <th>2</th>\n",
              "      <td>సెగలేనిదే పొగ రాదన్నట్లు రవి ఎవరు చెప్పకుండా ఏ...</td>\n",
              "      <td>Literal</td>\n",
              "    </tr>\n",
              "    <tr>\n",
              "      <th>3</th>\n",
              "      <td>మళ్లీ మళ్లీ రిపీట్ చేస్తూ చూస్తున్న వాళ్ళు ఎంత...</td>\n",
              "      <td>Literal</td>\n",
              "    </tr>\n",
              "    <tr>\n",
              "      <th>4</th>\n",
              "      <td>పొయ్యి కనీసం కొడుకులకు పని పాట లేదు కా బట్టి ద...</td>\n",
              "      <td>Literal</td>\n",
              "    </tr>\n",
              "  </tbody>\n",
              "</table>\n",
              "</div>\n",
              "      <button class=\"colab-df-convert\" onclick=\"convertToInteractive('df-7c07ba14-d68a-4913-9baa-26f8aaf7fe2b')\"\n",
              "              title=\"Convert this dataframe to an interactive table.\"\n",
              "              style=\"display:none;\">\n",
              "        \n",
              "  <svg xmlns=\"http://www.w3.org/2000/svg\" height=\"24px\"viewBox=\"0 0 24 24\"\n",
              "       width=\"24px\">\n",
              "    <path d=\"M0 0h24v24H0V0z\" fill=\"none\"/>\n",
              "    <path d=\"M18.56 5.44l.94 2.06.94-2.06 2.06-.94-2.06-.94-.94-2.06-.94 2.06-2.06.94zm-11 1L8.5 8.5l.94-2.06 2.06-.94-2.06-.94L8.5 2.5l-.94 2.06-2.06.94zm10 10l.94 2.06.94-2.06 2.06-.94-2.06-.94-.94-2.06-.94 2.06-2.06.94z\"/><path d=\"M17.41 7.96l-1.37-1.37c-.4-.4-.92-.59-1.43-.59-.52 0-1.04.2-1.43.59L10.3 9.45l-7.72 7.72c-.78.78-.78 2.05 0 2.83L4 21.41c.39.39.9.59 1.41.59.51 0 1.02-.2 1.41-.59l7.78-7.78 2.81-2.81c.8-.78.8-2.07 0-2.86zM5.41 20L4 18.59l7.72-7.72 1.47 1.35L5.41 20z\"/>\n",
              "  </svg>\n",
              "      </button>\n",
              "      \n",
              "  <style>\n",
              "    .colab-df-container {\n",
              "      display:flex;\n",
              "      flex-wrap:wrap;\n",
              "      gap: 12px;\n",
              "    }\n",
              "\n",
              "    .colab-df-convert {\n",
              "      background-color: #E8F0FE;\n",
              "      border: none;\n",
              "      border-radius: 50%;\n",
              "      cursor: pointer;\n",
              "      display: none;\n",
              "      fill: #1967D2;\n",
              "      height: 32px;\n",
              "      padding: 0 0 0 0;\n",
              "      width: 32px;\n",
              "    }\n",
              "\n",
              "    .colab-df-convert:hover {\n",
              "      background-color: #E2EBFA;\n",
              "      box-shadow: 0px 1px 2px rgba(60, 64, 67, 0.3), 0px 1px 3px 1px rgba(60, 64, 67, 0.15);\n",
              "      fill: #174EA6;\n",
              "    }\n",
              "\n",
              "    [theme=dark] .colab-df-convert {\n",
              "      background-color: #3B4455;\n",
              "      fill: #D2E3FC;\n",
              "    }\n",
              "\n",
              "    [theme=dark] .colab-df-convert:hover {\n",
              "      background-color: #434B5C;\n",
              "      box-shadow: 0px 1px 3px 1px rgba(0, 0, 0, 0.15);\n",
              "      filter: drop-shadow(0px 1px 2px rgba(0, 0, 0, 0.3));\n",
              "      fill: #FFFFFF;\n",
              "    }\n",
              "  </style>\n",
              "\n",
              "      <script>\n",
              "        const buttonEl =\n",
              "          document.querySelector('#df-7c07ba14-d68a-4913-9baa-26f8aaf7fe2b button.colab-df-convert');\n",
              "        buttonEl.style.display =\n",
              "          google.colab.kernel.accessAllowed ? 'block' : 'none';\n",
              "\n",
              "        async function convertToInteractive(key) {\n",
              "          const element = document.querySelector('#df-7c07ba14-d68a-4913-9baa-26f8aaf7fe2b');\n",
              "          const dataTable =\n",
              "            await google.colab.kernel.invokeFunction('convertToInteractive',\n",
              "                                                     [key], {});\n",
              "          if (!dataTable) return;\n",
              "\n",
              "          const docLinkHtml = 'Like what you see? Visit the ' +\n",
              "            '<a target=\"_blank\" href=https://colab.research.google.com/notebooks/data_table.ipynb>data table notebook</a>'\n",
              "            + ' to learn more about interactive tables.';\n",
              "          element.innerHTML = '';\n",
              "          dataTable['output_type'] = 'display_data';\n",
              "          await google.colab.output.renderOutput(dataTable, element);\n",
              "          const docLink = document.createElement('div');\n",
              "          docLink.innerHTML = docLinkHtml;\n",
              "          element.appendChild(docLink);\n",
              "        }\n",
              "      </script>\n",
              "    </div>\n",
              "  </div>\n",
              "  "
            ]
          },
          "metadata": {},
          "execution_count": 95
        }
      ]
    },
    {
      "cell_type": "code",
      "metadata": {
        "id": "tSj9SDSZaJ3H"
      },
      "source": [
        "import numpy as np\n",
        "import seaborn as sns\n",
        "import matplotlib.pyplot as plt\n",
        "from collections import defaultdict\n",
        "\n",
        "import torch\n",
        "import torch.nn.functional as F\n",
        "from torch import nn, optim\n",
        "from torch.utils.data import Dataset, DataLoader\n",
        "from sklearn.metrics import confusion_matrix, classification_report\n",
        "\n",
        "from transformers import XLMRobertaModel, AutoTokenizer, AdamW, get_linear_schedule_with_warmup\n",
        "from transformers import BertModel, BertTokenizer, AdamW, get_linear_schedule_with_warmup"
      ],
      "execution_count": null,
      "outputs": []
    },
    {
      "cell_type": "code",
      "metadata": {
        "colab": {
          "base_uri": "https://localhost:8080/",
          "height": 296
        },
        "id": "4Ir4H-LDaOI9",
        "outputId": "93dfd4a6-ba22-4a07-87f6-1cf991bca40b"
      },
      "source": [
        "sns.countplot(x=df.label)"
      ],
      "execution_count": null,
      "outputs": [
        {
          "output_type": "execute_result",
          "data": {
            "text/plain": [
              "<Axes: xlabel='label', ylabel='count'>"
            ]
          },
          "metadata": {},
          "execution_count": 97
        },
        {
          "output_type": "display_data",
          "data": {
            "text/plain": [
              "<Figure size 432x288 with 1 Axes>"
            ],
            "image/png": "[encoded data removed]"
          },
          "metadata": {
            "needs_background": "light"
          }
        }
      ]
    },
    {
      "cell_type": "code",
      "metadata": {
        "id": "lqFNxHyTaQs_",
        "colab": {
          "base_uri": "https://localhost:8080/",
          "height": 206
        },
        "outputId": "1a0b3034-58f8-4b78-c552-8e1096faf54f"
      },
      "source": [
        "from sklearn.preprocessing import LabelEncoder \n",
        "le = LabelEncoder()\n",
        "df[\"label_int\"] = le.fit_transform(df['label'])\n",
        "df.head()\n"
      ],
      "execution_count": null,
      "outputs": [
        {
          "output_type": "execute_result",
          "data": {
            "text/plain": [
              "                                                text    label  label_int\n",
              "0            రమేష్ రాజేష్ కి పక్కలో బెల్లంలా ఉన్నాడు    Idiom          0\n",
              "1  రాజేష్ మాటలే కానీ చేతలు లేదు తెలిసిందే కదా మొర...  Literal          1\n",
              "2  సెగలేనిదే పొగ రాదన్నట్లు రవి ఎవరు చెప్పకుండా ఏ...  Literal          1\n",
              "3  మళ్లీ మళ్లీ రిపీట్ చేస్తూ చూస్తున్న వాళ్ళు ఎంత...  Literal          1\n",
              "4  పొయ్యి కనీసం కొడుకులకు పని పాట లేదు కా బట్టి ద...  Literal          1"
            ],
            "text/html": [
              "\n",
              "  <div id=\"df-2cfe3927-0d59-4e0c-ac00-101f985a37d0\">\n",
              "    <div class=\"colab-df-container\">\n",
              "      <div>\n",
              "<style scoped>\n",
              "    .dataframe tbody tr th:only-of-type {\n",
              "        vertical-align: middle;\n",
              "    }\n",
              "\n",
              "    .dataframe tbody tr th {\n",
              "        vertical-align: top;\n",
              "    }\n",
              "\n",
              "    .dataframe thead th {\n",
              "        text-align: right;\n",
              "    }\n",
              "</style>\n",
              "<table border=\"1\" class=\"dataframe\">\n",
              "  <thead>\n",
              "    <tr style=\"text-align: right;\">\n",
              "      <th></th>\n",
              "      <th>text</th>\n",
              "      <th>label</th>\n",
              "      <th>label_int</th>\n",
              "    </tr>\n",
              "  </thead>\n",
              "  <tbody>\n",
              "    <tr>\n",
              "      <th>0</th>\n",
              "      <td>రమేష్ రాజేష్ కి పక్కలో బెల్లంలా ఉన్నాడు</td>\n",
              "      <td>Idiom</td>\n",
              "      <td>0</td>\n",
              "    </tr>\n",
              "    <tr>\n",
              "      <th>1</th>\n",
              "      <td>రాజేష్ మాటలే కానీ చేతలు లేదు తెలిసిందే కదా మొర...</td>\n",
              "      <td>Literal</td>\n",
              "      <td>1</td>\n",
              "    </tr>\n",
              "    <tr>\n",
              "      <th>2</th>\n",
              "      <td>సెగలేనిదే పొగ రాదన్నట్లు రవి ఎవరు చెప్పకుండా ఏ...</td>\n",
              "      <td>Literal</td>\n",
              "      <td>1</td>\n",
              "    </tr>\n",
              "    <tr>\n",
              "      <th>3</th>\n",
              "      <td>మళ్లీ మళ్లీ రిపీట్ చేస్తూ చూస్తున్న వాళ్ళు ఎంత...</td>\n",
              "      <td>Literal</td>\n",
              "      <td>1</td>\n",
              "    </tr>\n",
              "    <tr>\n",
              "      <th>4</th>\n",
              "      <td>పొయ్యి కనీసం కొడుకులకు పని పాట లేదు కా బట్టి ద...</td>\n",
              "      <td>Literal</td>\n",
              "      <td>1</td>\n",
              "    </tr>\n",
              "  </tbody>\n",
              "</table>\n",
              "</div>\n",
              "      <button class=\"colab-df-convert\" onclick=\"convertToInteractive('df-2cfe3927-0d59-4e0c-ac00-101f985a37d0')\"\n",
              "              title=\"Convert this dataframe to an interactive table.\"\n",
              "              style=\"display:none;\">\n",
              "        \n",
              "  <svg xmlns=\"http://www.w3.org/2000/svg\" height=\"24px\"viewBox=\"0 0 24 24\"\n",
              "       width=\"24px\">\n",
              "    <path d=\"M0 0h24v24H0V0z\" fill=\"none\"/>\n",
              "    <path d=\"M18.56 5.44l.94 2.06.94-2.06 2.06-.94-2.06-.94-.94-2.06-.94 2.06-2.06.94zm-11 1L8.5 8.5l.94-2.06 2.06-.94-2.06-.94L8.5 2.5l-.94 2.06-2.06.94zm10 10l.94 2.06.94-2.06 2.06-.94-2.06-.94-.94-2.06-.94 2.06-2.06.94z\"/><path d=\"M17.41 7.96l-1.37-1.37c-.4-.4-.92-.59-1.43-.59-.52 0-1.04.2-1.43.59L10.3 9.45l-7.72 7.72c-.78.78-.78 2.05 0 2.83L4 21.41c.39.39.9.59 1.41.59.51 0 1.02-.2 1.41-.59l7.78-7.78 2.81-2.81c.8-.78.8-2.07 0-2.86zM5.41 20L4 18.59l7.72-7.72 1.47 1.35L5.41 20z\"/>\n",
              "  </svg>\n",
              "      </button>\n",
              "      \n",
              "  <style>\n",
              "    .colab-df-container {\n",
              "      display:flex;\n",
              "      flex-wrap:wrap;\n",
              "      gap: 12px;\n",
              "    }\n",
              "\n",
              "    .colab-df-convert {\n",
              "      background-color: #E8F0FE;\n",
              "      border: none;\n",
              "      border-radius: 50%;\n",
              "      cursor: pointer;\n",
              "      display: none;\n",
              "      fill: #1967D2;\n",
              "      height: 32px;\n",
              "      padding: 0 0 0 0;\n",
              "      width: 32px;\n",
              "    }\n",
              "\n",
              "    .colab-df-convert:hover {\n",
              "      background-color: #E2EBFA;\n",
              "      box-shadow: 0px 1px 2px rgba(60, 64, 67, 0.3), 0px 1px 3px 1px rgba(60, 64, 67, 0.15);\n",
              "      fill: #174EA6;\n",
              "    }\n",
              "\n",
              "    [theme=dark] .colab-df-convert {\n",
              "      background-color: #3B4455;\n",
              "      fill: #D2E3FC;\n",
              "    }\n",
              "\n",
              "    [theme=dark] .colab-df-convert:hover {\n",
              "      background-color: #434B5C;\n",
              "      box-shadow: 0px 1px 3px 1px rgba(0, 0, 0, 0.15);\n",
              "      filter: drop-shadow(0px 1px 2px rgba(0, 0, 0, 0.3));\n",
              "      fill: #FFFFFF;\n",
              "    }\n",
              "  </style>\n",
              "\n",
              "      <script>\n",
              "        const buttonEl =\n",
              "          document.querySelector('#df-2cfe3927-0d59-4e0c-ac00-101f985a37d0 button.colab-df-convert');\n",
              "        buttonEl.style.display =\n",
              "          google.colab.kernel.accessAllowed ? 'block' : 'none';\n",
              "\n",
              "        async function convertToInteractive(key) {\n",
              "          const element = document.querySelector('#df-2cfe3927-0d59-4e0c-ac00-101f985a37d0');\n",
              "          const dataTable =\n",
              "            await google.colab.kernel.invokeFunction('convertToInteractive',\n",
              "                                                     [key], {});\n",
              "          if (!dataTable) return;\n",
              "\n",
              "          const docLinkHtml = 'Like what you see? Visit the ' +\n",
              "            '<a target=\"_blank\" href=https://colab.research.google.com/notebooks/data_table.ipynb>data table notebook</a>'\n",
              "            + ' to learn more about interactive tables.';\n",
              "          element.innerHTML = '';\n",
              "          dataTable['output_type'] = 'display_data';\n",
              "          await google.colab.output.renderOutput(dataTable, element);\n",
              "          const docLink = document.createElement('div');\n",
              "          docLink.innerHTML = docLinkHtml;\n",
              "          element.appendChild(docLink);\n",
              "        }\n",
              "      </script>\n",
              "    </div>\n",
              "  </div>\n",
              "  "
            ]
          },
          "metadata": {},
          "execution_count": 98
        }
      ]
    },
    {
      "cell_type": "code",
      "metadata": {
        "colab": {
          "base_uri": "https://localhost:8080/",
          "height": 297
        },
        "id": "mbpOVWCWaRzv",
        "outputId": "b529aa5b-c6cb-4ca2-dbda-610abb7a442f"
      },
      "source": [
        "sns.countplot(x=df.label_int)"
      ],
      "execution_count": null,
      "outputs": [
        {
          "output_type": "execute_result",
          "data": {
            "text/plain": [
              "<Axes: xlabel='label_int', ylabel='count'>"
            ]
          },
          "metadata": {},
          "execution_count": 99
        },
        {
          "output_type": "display_data",
          "data": {
            "text/plain": [
              "<Figure size 432x288 with 1 Axes>"
            ],
            "image/png": "[encoded data removed]"
          },
          "metadata": {
            "needs_background": "light"
          }
        }
      ]
    },
    {
      "cell_type": "code",
      "metadata": {
        "id": "vp63UT3maS_-"
      },
      "source": [
        "df_train, df_test = train_test_split(df, test_size=0.2)\n",
        "#df_test_real = pd.read_csv('/content/tamil_news_test.csv')"
      ],
      "execution_count": null,
      "outputs": []
    },
    {
      "cell_type": "code",
      "metadata": {
        "id": "DepAlr3faUT_"
      },
      "source": [
        "#df_test_real['label_int'] = df_test_real.Category.apply(sentiment)"
      ],
      "execution_count": null,
      "outputs": []
    },
    {
      "cell_type": "code",
      "metadata": {
        "id": "lsY9R-9HKQsW"
      },
      "source": [
        "class_names = le.classes_"
      ],
      "execution_count": null,
      "outputs": []
    },
    {
      "cell_type": "code",
      "metadata": {
        "colab": {
          "base_uri": "https://localhost:8080/"
        },
        "id": "PcD2bIHUJB4X",
        "outputId": "ed9ce3e5-fb63-4119-ff49-79aa46bc3747"
      },
      "source": [
        "!pip install sentencepiece"
      ],
      "execution_count": null,
      "outputs": [
        {
          "output_type": "stream",
          "name": "stdout",
          "text": [
            "Looking in indexes: https://pypi.org/simple, https://us-python.pkg.dev/colab-wheels/public/simple/\n",
            "Requirement already satisfied: sentencepiece in /usr/local/lib/python3.9/dist-packages (0.1.97)\n"
          ]
        }
      ]
    },
    {
      "cell_type": "code",
      "metadata": {
        "id": "HlL09zU9KVnR"
      },
      "source": [
        "PRE_TRAINED_MODEL_NAME1 = 'xlm-roberta-base' "
      ],
      "execution_count": null,
      "outputs": []
    },
    {
      "cell_type": "code",
      "metadata": {
        "id": "Yow7C49QKY_Y"
      },
      "source": [
        "tokenizer1 = AutoTokenizer.from_pretrained('xlm-roberta-base')"
      ],
      "execution_count": null,
      "outputs": []
    },
    {
      "cell_type": "code",
      "metadata": {
        "id": "rfxugUGlKj3d"
      },
      "source": [
        "MAX_LEN = 100"
      ],
      "execution_count": null,
      "outputs": []
    },
    {
      "cell_type": "code",
      "source": [
        "PRE_TRAINED_MODEL_NAME2 = 'bert-base-multilingual-cased' \n",
        "tokenizer2 = BertTokenizer.from_pretrained(PRE_TRAINED_MODEL_NAME2)"
      ],
      "metadata": {
        "id": "EltT7W6BMJLK"
      },
      "execution_count": null,
      "outputs": []
    },
    {
      "cell_type": "code",
      "metadata": {
        "id": "JTmOsyxKan6G"
      },
      "source": [
        "class TeluguDataset(Dataset):\n",
        "\n",
        "  def __init__(self, text, label, tokenizer, max_len):\n",
        "    self.text = text\n",
        "    self.label = label\n",
        "    self.tokenizer = tokenizer\n",
        "    self.max_len = max_len\n",
        "\n",
        "  def __len__(self):\n",
        "    return len(self.text)\n",
        "\n",
        "  def __getitem__(self, item):\n",
        "    text = str(self.text[item])\n",
        "    target = self.label[item]\n",
        "\n",
        "    encoding = self.tokenizer.encode_plus(\n",
        "        text,\n",
        "        add_special_tokens=True,\n",
        "        max_length=self.max_len,\n",
        "        padding='max_length',\n",
        "        return_token_type_ids=False,\n",
        "        return_attention_mask=True,\n",
        "        return_tensors='pt',\n",
        "        truncation=True,\n",
        "    )\n",
        "    return {\n",
        "        'text': text,\n",
        "        'input_ids': encoding['input_ids'].flatten(),\n",
        "        'attention_mask': encoding['attention_mask'].flatten(),\n",
        "        'targets': torch.tensor(target, dtype=torch.long),\n",
        "    }"
      ],
      "execution_count": null,
      "outputs": []
    },
    {
      "cell_type": "code",
      "metadata": {
        "id": "enJuqmrBaoOi"
      },
      "source": [
        "def create_data_loader(df, tokenizer, max_len, batch_size):\n",
        "  ds = TeluguDataset(\n",
        "    text=df.text.to_numpy(),\n",
        "    label=df.label_int.to_numpy(),\n",
        "    tokenizer=tokenizer,\n",
        "    max_len=max_len\n",
        "  )\n",
        "\n",
        "  return DataLoader(\n",
        "    ds,\n",
        "    batch_size=batch_size,\n",
        "  )"
      ],
      "execution_count": null,
      "outputs": []
    },
    {
      "cell_type": "code",
      "metadata": {
        "id": "xkz33iwHapfp"
      },
      "source": [
        "BATCH_SIZE = 32\n",
        "\n",
        "train_data_loader1 = create_data_loader(df_train, tokenizer1, MAX_LEN, BATCH_SIZE)\n",
        "val_data_loader1 = create_data_loader(df_test, tokenizer1, MAX_LEN, BATCH_SIZE)"
      ],
      "execution_count": null,
      "outputs": []
    },
    {
      "cell_type": "code",
      "source": [
        "train_data_loader2 = create_data_loader(df_train, tokenizer2, MAX_LEN, BATCH_SIZE)\n",
        "val_data_loader2 = create_data_loader(df_test, tokenizer2, MAX_LEN, BATCH_SIZE)"
      ],
      "metadata": {
        "id": "oC2LnlMSMR_x"
      },
      "execution_count": null,
      "outputs": []
    },
    {
      "cell_type": "code",
      "metadata": {
        "id": "TF5saZelaqnQ"
      },
      "source": [
        "for i in train_data_loader1:\n",
        "  break"
      ],
      "execution_count": null,
      "outputs": []
    },
    {
      "cell_type": "code",
      "metadata": {
        "colab": {
          "base_uri": "https://localhost:8080/"
        },
        "id": "3iM638AsKyba",
        "outputId": "f79ace15-31f4-4d4f-d4e9-e18b40809561"
      },
      "source": [
        "i"
      ],
      "execution_count": null,
      "outputs": [
        {
          "output_type": "execute_result",
          "data": {
            "text/plain": [
              "{'text': ['రమేష్ ని మార్చలేము వాడికి గాలిలో మెడలు కట్టడం అలవాటైపోయింది',\n",
              "  'వీడి సహాయాన్ని అంది పుచ్చుకొని పైకెదిగాడు',\n",
              "  'వాడు నన్ను పక్కదారి పట్టించాడు',\n",
              "  'దేశాన్ని రామరాజ్యంలా మార్చడం ప్రజల చేతిలో ఉంది',\n",
              "  'వారిద్దరు అచ్చంగా అచ్చు గుద్దినట్లు అమ్మ పోలికె',\n",
              "  'జీవితములో కష్టాలను ఆటుపోటులతో పోల్చడము సర్వసాధారణము',\n",
              "  'వీడు ఎవడురా పానకంలో పుడకలా',\n",
              "  'నిజమైన బింబిసారుడు ని చూపించావు అన్న…',\n",
              "  'ఆపదలు కలిగినప్పుడు భయపకుండా సమయ స్పూర్తి తో వాటిని జయించాలి',\n",
              "  'ఈ సినిమా పెద్ద విజయం సాదించాలి అనీమనసుపూర్తిగా కోరుకుంటున్నాము',\n",
              "  'పాపం వాడు అరచేతిలో ప్రాణాలుంచుకొని వచ్చాడు',\n",
              "  'వాడు అపసోపాలు పడి వచ్చాడు',\n",
              "  'పిల్లలతో వాడి జీవితం పంటపడింది',\n",
              "  'ఈ పని సాధించాలంటే అడ్డంగా నరుక్కురావాలి',\n",
              "  'అడవిలో పుట్టిన ఉసిరి, సముద్రంలో పుట్టిన ఉప్పు కలిసి నట్టు',\n",
              "  'పసి కట్టడంలో పోలీసులకు మొదటి స్థానం',\n",
              "  'బుద్ధిలేని వాడు ఏ పనిలోనైనా పానకంలో పడుకవలె అడ్డుపడతాడు',\n",
              "  'వాడు అడకత్తెరలో పోక చెక్కలాగ చిక్కుకున్నాడు',\n",
              "  'రవి కోరికలు ఆకాశానికి నిచ్చిన వేసినట్లు ఉంటాయి',\n",
              "  'చిన్న అభిప్రాయ బేధం వల్ల పెళ్లి తునాతునకలైంది',\n",
              "  'లాస్ట్ కి మాట్లాడినా  కి మళ్ళీ ఇంకో షో వేసి చూహించలి ',\n",
              "  'వానికి ఈ ఇల్లు అచ్చిరాలేదు',\n",
              "  'రవి చెప్పిన పని చేయకపోవడం వలన తల ప్రాణం తోకకు వచ్చింది',\n",
              "  'పట్టుమని వంద మంది కూడా లేరుఓ యుధ్ధం మీద పడితే ఎలా ఉంటుందో చూస్తారు కళ్యాణ్ రామ్ ఈ సినిమా పెద్ద విజయం సాధించాలని మనస్పూర్తిగా కోరుకుంటున్నాము',\n",
              "  'నాకెందుకో ఈ సినిమా మగధీర సినిమాలా ఉంటుందనిపిస్తున్నది',\n",
              "  'సుబ్బు పెళ్లి వెంకి చావుకు వచ్చినట్లు ఎవరు ఏ పని చేసినా నాకే దెబ్బ తగులుతుంది',\n",
              "  'అప్పట్లో ,75 సంవత్సరాల తెలుగు సినీ చరిత్రలో ఆల్ టైమ్ రికార్డులు సృటించిన మూవీ.',\n",
              "  'కొత్తల్లుడు కారు కొనివ్వలేదని అలకపానుపు ఎక్కాడు',\n",
              "  'వాడితో గొడవ పులితో చెలగాటం రెండూ ఒకటే',\n",
              "  'మోహన్ బాబు సినిమా ఎవడన్నా చూస్తాడా',\n",
              "  'అడ్డమైన గడ్డి తినడంలో ముందు ఉంటాడు',\n",
              "  'వాడు చేసే ప్రతి పనికి అక్షింతలు పడతాయి'],\n",
              " 'input_ids': tensor([[     0,  15927,  15261,  ...,      1,      1,      1],\n",
              "         [     0,  38779,   6702,  ...,      1,      1,      1],\n",
              "         [     0,      6,  65044,  ...,      1,      1,      1],\n",
              "         ...,\n",
              "         [     0,      6, 116643,  ...,      1,      1,      1],\n",
              "         [     0, 128076,  11323,  ...,      1,      1,      1],\n",
              "         [     0,      6,  65044,  ...,      1,      1,      1]]),\n",
              " 'attention_mask': tensor([[1, 1, 1,  ..., 0, 0, 0],\n",
              "         [1, 1, 1,  ..., 0, 0, 0],\n",
              "         [1, 1, 1,  ..., 0, 0, 0],\n",
              "         ...,\n",
              "         [1, 1, 1,  ..., 0, 0, 0],\n",
              "         [1, 1, 1,  ..., 0, 0, 0],\n",
              "         [1, 1, 1,  ..., 0, 0, 0]]),\n",
              " 'targets': tensor([1, 0, 0, 0, 0, 0, 0, 1, 1, 1, 0, 0, 0, 0, 0, 0, 1, 0, 1, 0, 1, 0, 1, 1,\n",
              "         1, 1, 1, 0, 0, 1, 0, 0])}"
            ]
          },
          "metadata": {},
          "execution_count": 113
        }
      ]
    },
    {
      "cell_type": "code",
      "metadata": {
        "id": "udNqVf3jarz_"
      },
      "source": [
        "class TeluguClassifier1(nn.Module):\n",
        "\n",
        "  def __init__(self, n_class):\n",
        "    super(TeluguClassifier1, self).__init__()\n",
        "    self.bert = XLMRobertaModel.from_pretrained(PRE_TRAINED_MODEL_NAME1, return_dict=False)\n",
        "    self.drop = nn.Dropout(p=0.4)\n",
        "    self.out = nn.Linear(self.bert.config.hidden_size, n_class)\n",
        "\n",
        "  def forward(self, input_ids, attention_mask):\n",
        "    _, pooled_output = self.bert(\n",
        "      input_ids=input_ids,\n",
        "      attention_mask=attention_mask\n",
        "    )\n",
        "    output = self.drop(pooled_output)\n",
        "    return self.out(output)"
      ],
      "execution_count": null,
      "outputs": []
    },
    {
      "cell_type": "code",
      "source": [
        "class TeluguClassifier2(nn.Module):\n",
        "\n",
        "  def __init__(self, n_class):\n",
        "    super(TeluguClassifier2, self).__init__()\n",
        "    self.bert = BertModel.from_pretrained(PRE_TRAINED_MODEL_NAME2, return_dict=False)\n",
        "    self.drop = nn.Dropout(p=0.2)\n",
        "    self.out = nn.Linear(self.bert.config.hidden_size, n_class)\n",
        "\n",
        "  def forward(self, input_ids, attention_mask):\n",
        "    _, pooled_output = self.bert(\n",
        "      input_ids=input_ids,\n",
        "      attention_mask=attention_mask\n",
        "    )\n",
        "    output = self.drop(pooled_output)\n",
        "    return self.out(output)"
      ],
      "metadata": {
        "id": "jWGxEtVMMho0"
      },
      "execution_count": null,
      "outputs": []
    },
    {
      "cell_type": "code",
      "metadata": {
        "colab": {
          "base_uri": "https://localhost:8080/"
        },
        "id": "UMlREd-Fas8D",
        "outputId": "ac8dc1b3-9c8b-4dce-ace7-9f49c8e82a1a"
      },
      "source": [
        "device = torch.device('cuda' if torch.cuda.is_available() else 'cpu')\n",
        "device"
      ],
      "execution_count": null,
      "outputs": [
        {
          "output_type": "execute_result",
          "data": {
            "text/plain": [
              "device(type='cuda')"
            ]
          },
          "metadata": {},
          "execution_count": 116
        }
      ]
    },
    {
      "cell_type": "code",
      "metadata": {
        "colab": {
          "base_uri": "https://localhost:8080/"
        },
        "id": "N6t0lMNHavlu",
        "outputId": "6864cedd-e881-498e-9cb9-c85953a4b6b4"
      },
      "source": [
        "model1 = TeluguClassifier1(len(class_names))\n",
        "model1 = model1.to(device)"
      ],
      "execution_count": null,
      "outputs": [
        {
          "output_type": "stream",
          "name": "stderr",
          "text": [
            "Some weights of the model checkpoint at xlm-roberta-base were not used when initializing XLMRobertaModel: ['lm_head.decoder.weight', 'lm_head.layer_norm.weight', 'lm_head.bias', 'lm_head.layer_norm.bias', 'lm_head.dense.weight', 'lm_head.dense.bias']\n",
            "- This IS expected if you are initializing XLMRobertaModel from the checkpoint of a model trained on another task or with another architecture (e.g. initializing a BertForSequenceClassification model from a BertForPreTraining model).\n",
            "- This IS NOT expected if you are initializing XLMRobertaModel from the checkpoint of a model that you expect to be exactly identical (initializing a BertForSequenceClassification model from a BertForSequenceClassification model).\n"
          ]
        }
      ]
    },
    {
      "cell_type": "code",
      "source": [
        "model2 = TeluguClassifier2(len(class_names))\n",
        "model2 = model2.to(device)"
      ],
      "metadata": {
        "colab": {
          "base_uri": "https://localhost:8080/"
        },
        "id": "6raTkEqVMb0h",
        "outputId": "dd5196ef-ff9e-4e70-fdbe-42e1462cc00f"
      },
      "execution_count": null,
      "outputs": [
        {
          "output_type": "stream",
          "name": "stderr",
          "text": [
            "Some weights of the model checkpoint at bert-base-multilingual-cased were not used when initializing BertModel: ['cls.predictions.transform.LayerNorm.bias', 'cls.predictions.bias', 'cls.seq_relationship.weight', 'cls.predictions.transform.LayerNorm.weight', 'cls.predictions.transform.dense.weight', 'cls.seq_relationship.bias', 'cls.predictions.transform.dense.bias', 'cls.predictions.decoder.weight']\n",
            "- This IS expected if you are initializing BertModel from the checkpoint of a model trained on another task or with another architecture (e.g. initializing a BertForSequenceClassification model from a BertForPreTraining model).\n",
            "- This IS NOT expected if you are initializing BertModel from the checkpoint of a model that you expect to be exactly identical (initializing a BertForSequenceClassification model from a BertForSequenceClassification model).\n"
          ]
        }
      ]
    },
    {
      "cell_type": "code",
      "metadata": {
        "id": "sC2ertOlaw0J"
      },
      "source": [
        "EPOCHS = 3\n",
        "\n",
        "optimizer1 = AdamW(model1.parameters(), lr=1e-5, correct_bias=False)\n",
        "total_steps1 = len(train_data_loader1) * EPOCHS\n",
        "\n",
        "scheduler1 = get_linear_schedule_with_warmup(\n",
        "  optimizer1,\n",
        "  num_warmup_steps=0,\n",
        "  num_training_steps=total_steps1\n",
        ")\n",
        "\n",
        "loss_fn1 = nn.CrossEntropyLoss().to(device)"
      ],
      "execution_count": null,
      "outputs": []
    },
    {
      "cell_type": "code",
      "source": [
        "optimizer2 = AdamW(model2.parameters(), lr=1e-5, correct_bias=False)\n",
        "total_steps2 = len(train_data_loader2) * EPOCHS\n",
        "\n",
        "scheduler2 = get_linear_schedule_with_warmup(\n",
        "  optimizer2,\n",
        "  num_warmup_steps=0,\n",
        "  num_training_steps=total_steps2\n",
        ")\n",
        "\n",
        "loss_fn2 = nn.CrossEntropyLoss().to(device)"
      ],
      "metadata": {
        "id": "9wpD8QkLE7sB"
      },
      "execution_count": null,
      "outputs": []
    },
    {
      "cell_type": "code",
      "metadata": {
        "id": "32_kzEKzayN6"
      },
      "source": [
        "def train_epoch(\n",
        "    model,\n",
        "    data_loader,\n",
        "    loss_fn,\n",
        "    optimizer,\n",
        "    device,\n",
        "    scheduler,\n",
        "    n_examples\n",
        "    ):\n",
        "  model = model.train()\n",
        "\n",
        "  losses = []\n",
        "  correct_predictions = 0\n",
        "\n",
        "  for d in data_loader:\n",
        "    input_ids = d['input_ids'].to(device)\n",
        "    attention_mask = d['attention_mask'].to(device)\n",
        "    targets = d[\"targets\"].to(device)\n",
        "\n",
        "    outputs = model(input_ids=input_ids, attention_mask=attention_mask)\n",
        "\n",
        "    _, preds = torch.max(outputs, dim=1)\n",
        "    loss = loss_fn(outputs, targets)\n",
        "\n",
        "    correct_predictions += torch.sum(preds == targets)\n",
        "    losses.append(loss.item())\n",
        "    \n",
        "    loss.backward()\n",
        "    nn.utils.clip_grad_norm_(model.parameters(), max_norm=1.0)\n",
        "    optimizer.step()\n",
        "    scheduler.step()\n",
        "    optimizer.zero_grad()\n",
        "\n",
        "  return correct_predictions.double() / n_examples, np.mean(losses) "
      ],
      "execution_count": null,
      "outputs": []
    },
    {
      "cell_type": "code",
      "metadata": {
        "id": "y72tnwB7azSM"
      },
      "source": [
        "def eval_model(model, data_loader, loss_fn, device, n_examples):\n",
        "  model = model.eval()\n",
        "\n",
        "  losses = []\n",
        "  correct_predictions = 0\n",
        "\n",
        "  with torch.no_grad():\n",
        "    for d in data_loader:\n",
        "      input_ids = d['input_ids'].to(device)\n",
        "      attention_mask = d['attention_mask'].to(device)\n",
        "      targets = d[\"targets\"].to(device)\n",
        "\n",
        "      outputs = model(input_ids=input_ids, attention_mask=attention_mask)\n",
        "\n",
        "      _, preds = torch.max(outputs, dim=1)\n",
        "      loss = loss_fn(outputs, targets)\n",
        "\n",
        "      correct_predictions += torch.sum(preds == targets)\n",
        "      losses.append(loss.item())\n",
        "\n",
        "  return correct_predictions.double() / n_examples, np.mean(losses) "
      ],
      "execution_count": null,
      "outputs": []
    },
    {
      "cell_type": "code",
      "metadata": {
        "colab": {
          "base_uri": "https://localhost:8080/"
        },
        "id": "3kb3JtpFa0gd",
        "outputId": "bdef8ebb-a503-4c5c-e5f2-5f704ef94223"
      },
      "source": [
        "%%time\n",
        "import warnings\n",
        "warnings.simplefilter(action='ignore', category=FutureWarning)\n",
        "\n",
        "history = defaultdict(list)\n",
        "best_accuracy = 0\n",
        "\n",
        "for epoch in range(EPOCHS):\n",
        "\n",
        "  print(f\"Epoch {epoch + 1}/{EPOCHS}\")\n",
        "  print(f\"-\"*10)\n",
        "\n",
        "  train_acc, train_loss = train_epoch(\n",
        "      model1,\n",
        "      train_data_loader1,\n",
        "      loss_fn1,\n",
        "      optimizer1,\n",
        "      device,\n",
        "      scheduler1,\n",
        "      len(df_train)\n",
        "  )\n",
        "\n",
        "  print(f\"Training loss {train_loss} accuracy {train_acc}\")\n",
        "\n",
        "  val_acc, val_loss = eval_model(\n",
        "      model1, \n",
        "      val_data_loader1,\n",
        "      loss_fn1,\n",
        "      device,\n",
        "      len(df_test)\n",
        "  )\n",
        "\n",
        "  print(f\"Validation loss {val_loss} accuracy {val_acc}\")\n",
        "  print()\n",
        "\n",
        "  history['train_acc'].append(train_acc)\n",
        "  history['train_loss'].append(train_loss)\n",
        "\n",
        "  history['val_acc'].append(val_acc)\n",
        "  history['val_loss'].append(val_loss)\n",
        "\n",
        "  if val_acc > best_accuracy:\n",
        "    torch.save(model1, \"model1.pth\")\n",
        "    best_accuracy = val_acc"
      ],
      "execution_count": null,
      "outputs": [
        {
          "output_type": "stream",
          "name": "stdout",
          "text": [
            "Epoch 1/3\n",
            "----------\n",
            "Training loss 0.687092657883962 accuracy 0.5125\n",
            "Validation loss 0.5597424283623695 accuracy 0.725\n",
            "\n",
            "Epoch 2/3\n",
            "----------\n",
            "Training loss 0.5597447554270426 accuracy 0.7\n",
            "Validation loss 0.5769151523709297 accuracy 0.75\n",
            "\n",
            "Epoch 3/3\n",
            "----------\n",
            "Training loss 0.47395495772361756 accuracy 0.7875\n",
            "Validation loss 0.4083656519651413 accuracy 0.775\n",
            "\n",
            "CPU times: user 19.6 s, sys: 5.71 s, total: 25.3 s\n",
            "Wall time: 42.1 s\n"
          ]
        }
      ]
    },
    {
      "cell_type": "code",
      "metadata": {
        "id": "2REV7t035h8N"
      },
      "source": [
        "model1.bert.train(True);"
      ],
      "execution_count": null,
      "outputs": []
    },
    {
      "cell_type": "code",
      "source": [
        "%%time\n",
        "import warnings\n",
        "warnings.simplefilter(action='ignore', category=FutureWarning)\n",
        "\n",
        "history = defaultdict(list)\n",
        "best_accuracy = 0\n",
        "\n",
        "for epoch in range(EPOCHS):\n",
        "\n",
        "  print(f\"Epoch {epoch + 1}/{EPOCHS}\")\n",
        "  print(f\"-\"*10)\n",
        "\n",
        "  train_acc, train_loss = train_epoch(\n",
        "      model2,\n",
        "      train_data_loader2,\n",
        "      loss_fn2,\n",
        "      optimizer2,\n",
        "      device,\n",
        "      scheduler2,\n",
        "      len(df_train)\n",
        "  )\n",
        "\n",
        "  print(f\"Training loss {train_loss} accuracy {train_acc}\")\n",
        "\n",
        "  val_acc, val_loss = eval_model(\n",
        "      model2, \n",
        "      val_data_loader2,\n",
        "      loss_fn2,\n",
        "      device,\n",
        "      len(df_test)\n",
        "  )\n",
        "\n",
        "  print(f\"Validation loss {val_loss} accuracy {val_acc}\")\n",
        "  print()\n",
        "\n",
        "  history['train_acc'].append(train_acc)\n",
        "  history['train_loss'].append(train_loss)\n",
        "\n",
        "  history['val_acc'].append(val_acc)\n",
        "  history['val_loss'].append(val_loss)\n",
        "\n",
        "  if val_acc > best_accuracy:\n",
        "    torch.save(model2, \"model2.pth\")\n",
        "    best_accuracy = val_acc"
      ],
      "metadata": {
        "colab": {
          "base_uri": "https://localhost:8080/"
        },
        "id": "V3uj9eU3NdbF",
        "outputId": "adcbfa61-ecb9-422a-eca1-5837e750f7f1"
      },
      "execution_count": null,
      "outputs": [
        {
          "output_type": "stream",
          "name": "stdout",
          "text": [
            "Epoch 1/3\n",
            "----------\n",
            "Training loss 0.5432907402515411 accuracy 0.7083333333333334\n",
            "Validation loss 0.4656152203679085 accuracy 0.75\n",
            "\n",
            "Epoch 2/3\n",
            "----------\n",
            "Training loss 0.3058733721574148 accuracy 0.8729166666666667\n",
            "Validation loss 0.3801010362803936 accuracy 0.8416666666666667\n",
            "\n",
            "Epoch 3/3\n",
            "----------\n",
            "Training loss 0.1883884573976199 accuracy 0.9333333333333333\n",
            "Validation loss 0.36017048731446266 accuracy 0.8583333333333333\n",
            "\n",
            "CPU times: user 25.3 s, sys: 3.66 s, total: 29 s\n",
            "Wall time: 32.8 s\n"
          ]
        }
      ]
    },
    {
      "cell_type": "code",
      "source": [
        "model2.bert.train(True);"
      ],
      "metadata": {
        "id": "Sl3-Z7YCNeku"
      },
      "execution_count": null,
      "outputs": []
    },
    {
      "cell_type": "code",
      "metadata": {
        "id": "mfCuLI3Ka2ZC"
      },
      "source": [
        "def get_predictions(model, data_loader):\n",
        "  model = model.eval()\n",
        "  \n",
        "  data_text = []\n",
        "  predictions = []\n",
        "  prediction_probs = []\n",
        "  real_values = []\n",
        "\n",
        "  with torch.no_grad():\n",
        "    for d in data_loader:\n",
        "\n",
        "      texts = d[\"text\"]\n",
        "      input_ids = d[\"input_ids\"].to(device)\n",
        "      attention_mask = d[\"attention_mask\"].to(device)\n",
        "      targets = d[\"targets\"].to(device)\n",
        "\n",
        "      outputs = model(\n",
        "        input_ids=input_ids,\n",
        "        attention_mask=attention_mask\n",
        "      )\n",
        "      _, preds = torch.max(outputs, dim=1)\n",
        "\n",
        "      probs = F.softmax(outputs, dim=1)\n",
        "\n",
        "      data_text.extend(texts)\n",
        "      predictions.extend(preds)\n",
        "      prediction_probs.extend(probs)\n",
        "      real_values.extend(targets)\n",
        "\n",
        "  predictions = torch.stack(predictions).cpu()\n",
        "  prediction_probs = torch.stack(prediction_probs).cpu()\n",
        "  real_values = torch.stack(real_values).cpu()\n",
        "  return data_text, predictions, prediction_probs, real_values"
      ],
      "execution_count": null,
      "outputs": []
    },
    {
      "cell_type": "code",
      "metadata": {
        "id": "l3OyinLha6xI"
      },
      "source": [
        "y_data_text1, y_pred1, y_pred_probs1, y_test1 = get_predictions(\n",
        "  model1,\n",
        "  val_data_loader1\n",
        ")"
      ],
      "execution_count": null,
      "outputs": []
    },
    {
      "cell_type": "code",
      "metadata": {
        "id": "7bO_iG8aQOV_",
        "colab": {
          "base_uri": "https://localhost:8080/"
        },
        "outputId": "bc05255d-659a-4c99-bccb-235d82b43892"
      },
      "source": [
        "print(classification_report(y_test1, y_pred1, target_names=class_names))"
      ],
      "execution_count": null,
      "outputs": [
        {
          "output_type": "stream",
          "name": "stdout",
          "text": [
            "              precision    recall  f1-score   support\n",
            "\n",
            "       Idiom       0.71      0.92      0.80        60\n",
            "     Literal       0.88      0.63      0.74        60\n",
            "\n",
            "    accuracy                           0.78       120\n",
            "   macro avg       0.80      0.77      0.77       120\n",
            "weighted avg       0.80      0.78      0.77       120\n",
            "\n"
          ]
        }
      ]
    },
    {
      "cell_type": "code",
      "source": [
        "def show_confusion_matrix(confusion_matrix):\n",
        "  hmap = sns.heatmap(confusion_matrix, annot=True, fmt=\"d\", cmap=\"Blues\")\n",
        "  hmap.yaxis.set_ticklabels(hmap.yaxis.get_ticklabels(), rotation=0, ha='right')\n",
        "  hmap.xaxis.set_ticklabels(hmap.xaxis.get_ticklabels(), rotation=30, ha='right')\n",
        "  plt.ylabel('True Label')\n",
        "  plt.xlabel('Predicted Label');\n",
        "\n",
        "cm = confusion_matrix(y_test1, y_pred1)\n",
        "df_cm = pd.DataFrame(cm, index=class_names, columns=class_names)\n",
        "show_confusion_matrix(df_cm)"
      ],
      "metadata": {
        "colab": {
          "base_uri": "https://localhost:8080/",
          "height": 294
        },
        "id": "YRY_WULA36NX",
        "outputId": "c0f35a79-f801-4052-9bde-788d4a939c1f"
      },
      "execution_count": null,
      "outputs": [
        {
          "output_type": "display_data",
          "data": {
            "text/plain": [
              "<Figure size 432x288 with 2 Axes>"
            ],
            "image/png": "[encoded data removed]"
          },
          "metadata": {
            "needs_background": "light"
          }
        }
      ]
    },
    {
      "cell_type": "code",
      "source": [
        "y_data_text2, y_pred2, y_pred_probs2, y_test2 = get_predictions(\n",
        "  model2,\n",
        "  val_data_loader2\n",
        ")"
      ],
      "metadata": {
        "id": "oFQDAdCRNowU"
      },
      "execution_count": null,
      "outputs": []
    },
    {
      "cell_type": "code",
      "source": [
        "print(classification_report(y_test2, y_pred2, target_names=class_names))"
      ],
      "metadata": {
        "id": "hAqyq5dFNsst",
        "colab": {
          "base_uri": "https://localhost:8080/"
        },
        "outputId": "d2f7f38e-5288-498a-a73d-403f005370d9"
      },
      "execution_count": null,
      "outputs": [
        {
          "output_type": "stream",
          "name": "stdout",
          "text": [
            "              precision    recall  f1-score   support\n",
            "\n",
            "       Idiom       0.86      0.85      0.86        60\n",
            "     Literal       0.85      0.87      0.86        60\n",
            "\n",
            "    accuracy                           0.86       120\n",
            "   macro avg       0.86      0.86      0.86       120\n",
            "weighted avg       0.86      0.86      0.86       120\n",
            "\n"
          ]
        }
      ]
    },
    {
      "cell_type": "code",
      "source": [
        "def show_confusion_matrix(confusion_matrix):\n",
        "  hmap = sns.heatmap(confusion_matrix, annot=True, fmt=\"d\", cmap=\"Blues\")\n",
        "  hmap.yaxis.set_ticklabels(hmap.yaxis.get_ticklabels(), rotation=0, ha='right')\n",
        "  hmap.xaxis.set_ticklabels(hmap.xaxis.get_ticklabels(), rotation=30, ha='right')\n",
        "  plt.ylabel('True Label')\n",
        "  plt.xlabel('Predicted Label');\n",
        "\n",
        "cm = confusion_matrix(y_test2, y_pred2)\n",
        "df_cm = pd.DataFrame(cm, index=class_names, columns=class_names)\n",
        "show_confusion_matrix(df_cm)"
      ],
      "metadata": {
        "colab": {
          "base_uri": "https://localhost:8080/",
          "height": 294
        },
        "id": "mmgLec0c4D-w",
        "outputId": "a24a16fd-63c7-4898-94da-33ed08a2a77d"
      },
      "execution_count": null,
      "outputs": [
        {
          "output_type": "display_data",
          "data": {
            "text/plain": [
              "<Figure size 432x288 with 2 Axes>"
            ],
            "image/png": "[encoded data removed]"
          },
          "metadata": {
            "needs_background": "light"
          }
        }
      ]
    },
    {
      "cell_type": "code",
      "source": [
        "final_pred_prob=(y_pred_probs1+y_pred_probs2)/2"
      ],
      "metadata": {
        "id": "ks7J32YPI3hn"
      },
      "execution_count": null,
      "outputs": []
    },
    {
      "cell_type": "code",
      "source": [
        "pred=[]\n",
        "for res in final_pred_prob:\n",
        "  pred.append(np.argmax(res))"
      ],
      "metadata": {
        "id": "EnNITVP8JPgj"
      },
      "execution_count": null,
      "outputs": []
    },
    {
      "cell_type": "code",
      "source": [
        "from sklearn.metrics import accuracy_score\n",
        "accuracy_score(y_test1,pred)"
      ],
      "metadata": {
        "id": "E_mq7zikJnRy",
        "colab": {
          "base_uri": "https://localhost:8080/"
        },
        "outputId": "cc83df01-253e-42e6-84e9-4a65227b775f"
      },
      "execution_count": null,
      "outputs": [
        {
          "output_type": "execute_result",
          "data": {
            "text/plain": [
              "0.8666666666666667"
            ]
          },
          "metadata": {},
          "execution_count": 136
        }
      ]
    },
    {
      "cell_type": "code",
      "source": [
        "print(classification_report(y_test1, pred, target_names=class_names))"
      ],
      "metadata": {
        "colab": {
          "base_uri": "https://localhost:8080/"
        },
        "id": "H-UaDyVM4WHe",
        "outputId": "1a0da611-844c-49bb-96ef-41c2ad65ca48"
      },
      "execution_count": null,
      "outputs": [
        {
          "output_type": "stream",
          "name": "stdout",
          "text": [
            "              precision    recall  f1-score   support\n",
            "\n",
            "       Idiom       0.85      0.88      0.87        60\n",
            "     Literal       0.88      0.85      0.86        60\n",
            "\n",
            "    accuracy                           0.87       120\n",
            "   macro avg       0.87      0.87      0.87       120\n",
            "weighted avg       0.87      0.87      0.87       120\n",
            "\n"
          ]
        }
      ]
    },
    {
      "cell_type": "code",
      "metadata": {
        "id": "YlQFmmsrRDtn",
        "colab": {
          "base_uri": "https://localhost:8080/",
          "height": 294
        },
        "outputId": "b59cdb49-243e-4f4c-fefd-5cc7db9ce991"
      },
      "source": [
        "def show_confusion_matrix(confusion_matrix):\n",
        "  hmap = sns.heatmap(confusion_matrix, annot=True, fmt=\"d\", cmap=\"Blues\")\n",
        "  hmap.yaxis.set_ticklabels(hmap.yaxis.get_ticklabels(), rotation=0, ha='right')\n",
        "  hmap.xaxis.set_ticklabels(hmap.xaxis.get_ticklabels(), rotation=30, ha='right')\n",
        "  plt.ylabel('True Label')\n",
        "  plt.xlabel('Predicted Label');\n",
        "\n",
        "cm = confusion_matrix(y_test1,pred)\n",
        "df_cm = pd.DataFrame(cm, index=class_names, columns=class_names)\n",
        "show_confusion_matrix(df_cm)"
      ],
      "execution_count": null,
      "outputs": [
        {
          "output_type": "display_data",
          "data": {
            "text/plain": [
              "<Figure size 432x288 with 2 Axes>"
            ],
            "image/png": "[encoded data removed]"
          },
          "metadata": {
            "needs_background": "light"
          }
        }
      ]
    }
  ]
}